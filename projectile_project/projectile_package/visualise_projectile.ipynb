from projectile_package.projectile import flying_mass
from projectile_package.projectile_plot import plot_xy

t, x, y, vx, vy = flying_mass(10., 10., 20, 30, mass=1., k=0.035)

plot_xy(t, x, y, vx, vy)
