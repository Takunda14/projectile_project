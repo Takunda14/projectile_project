{
 "cells": [
  {
   "cell_type": "code",
   "execution_count": null,
   "id": "ffeca4e4",
   "metadata": {},
   "outputs": [],
   "source": [
    "from projectile_package.projectile import flying_mass\n",
    "from projectile_package.projectile_plot import plot_xy\n",
    "\n",
    "t, x, y, vx, vy = flying_mass(10., 10., 20, 30, mass=1., k=0.035)\n",
    "\n",
    "plot_xy(t, x, y, vx, vy)"
   ]
  }
 ],
 "metadata": {
  "kernelspec": {
   "display_name": "Python 3 (ipykernel)",
   "language": "python",
   "name": "python3"
  },
  "language_info": {
   "codemirror_mode": {
    "name": "ipython",
    "version": 3
   },
   "file_extension": ".py",
   "mimetype": "text/x-python",
   "name": "python",
   "nbconvert_exporter": "python",
   "pygments_lexer": "ipython3",
   "version": "3.9.13"
  }
 },
 "nbformat": 4,
 "nbformat_minor": 5
}
